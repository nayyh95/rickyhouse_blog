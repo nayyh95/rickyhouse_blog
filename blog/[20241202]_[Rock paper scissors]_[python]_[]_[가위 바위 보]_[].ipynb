{
  "nbformat": 4,
  "nbformat_minor": 0,
  "metadata": {
    "colab": {
      "provenance": []
    },
    "kernelspec": {
      "name": "python3",
      "display_name": "Python 3"
    },
    "language_info": {
      "name": "python"
    }
  },
  "cells": [
    {
      "cell_type": "code",
      "execution_count": null,
      "metadata": {
        "colab": {
          "base_uri": "https://localhost:8080/"
        },
        "id": "BDvg6BycRcpp",
        "outputId": "22309ff8-1267-4eff-fdff-d454715e27a4"
      },
      "outputs": [
        {
          "output_type": "stream",
          "name": "stdout",
          "text": [
            "가위 바위 보 중에 하나를 입력하세요.> 바위\n",
            "컴퓨터는 가위 를 냈습니다.\n",
            "당신은 바위 를 냈습니다.\n",
            "당신이 이겼습니다.\n"
          ]
        }
      ],
      "source": [
        "import random\n",
        "\n",
        "select = [\"가위\", \"바위\", \"보\"]\n",
        "computer = random.choice(select)\n",
        "\n",
        "while True:\n",
        "    user = input(\"가위 바위 보 중에 하나를 입력하세요.> \")\n",
        "    if user in select:\n",
        "        break\n",
        "    print(\"잘못된 입력입니다. 다시 입력하세요.\")\n",
        "\n",
        "print(f\"컴퓨터는 {computer} 를 냈습니다.\")\n",
        "print(f\"당신은 {user} 를 냈습니다.\")\n",
        "\n",
        "if user == \"가위\" and computer == \"보\" or \\\n",
        "   user == \"바위\" and computer == \"가위\" or \\\n",
        "   user == \"보\" and computer == \"바위\":\n",
        "    print(\"당신이 이겼습니다.\")\n",
        "else:\n",
        "    print(\"당신이 졌습니다.\")"
      ]
    }
  ]
}