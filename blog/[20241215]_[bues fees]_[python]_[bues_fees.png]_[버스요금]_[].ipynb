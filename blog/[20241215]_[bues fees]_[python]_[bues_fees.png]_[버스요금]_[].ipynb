{
  "nbformat": 4,
  "nbformat_minor": 0,
  "metadata": {
    "colab": {
      "provenance": []
    },
    "kernelspec": {
      "name": "python3",
      "display_name": "Python 3"
    },
    "language_info": {
      "name": "python"
    }
  },
  "cells": [
    {
      "cell_type": "code",
      "execution_count": null,
      "metadata": {
        "colab": {
          "base_uri": "https://localhost:8080/"
        },
        "id": "HCx05KQcckQs",
        "outputId": "e5c4fc6a-d160-41be-c3cd-2e1a832c6529"
      },
      "outputs": [
        {
          "output_type": "stream",
          "name": "stdout",
          "text": [
            "나이를 입력하세요: 70\n",
            "지불방법: 카드\n",
            "나이: 70\n",
            "지불유형: 카드\n",
            "버스요금: 1200\n"
          ]
        }
      ],
      "source": [
        "age = int(input(\"나이를 입력하세요: \"))\n",
        "pay_type = input(\"지불방법: \")\n",
        "if not(pay_type == '카드' or pay_type == '현급'):\n",
        "  print(\"지불유형은 카드와 현금 중 입력하세요\")\n",
        "else:\n",
        "  if(pay_type == '카드'):\n",
        "    if(age < 8 or age >= 75): fare = 0\n",
        "    elif(age < 14): fare = 450\n",
        "    elif(age < 20): fare = 720\n",
        "    else: fare = 1200\n",
        "  else:\n",
        "    if(age < 8 or age >= 75): fare = 0\n",
        "    elif(age < 14): fare = 450\n",
        "    elif(age < 20): fare = 1000\n",
        "    else: fare = 1300\n",
        "\n",
        "print(\"나이:\", age)\n",
        "print(\"지불유형:\", pay_type)\n",
        "print(\"버스요금:\", fare)"
      ]
    }
  ]
}