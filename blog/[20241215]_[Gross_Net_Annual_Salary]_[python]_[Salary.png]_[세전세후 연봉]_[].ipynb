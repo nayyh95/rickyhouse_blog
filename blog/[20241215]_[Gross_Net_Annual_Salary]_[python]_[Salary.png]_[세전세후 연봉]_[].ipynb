{
  "nbformat": 4,
  "nbformat_minor": 0,
  "metadata": {
    "colab": {
      "provenance": []
    },
    "kernelspec": {
      "name": "python3",
      "display_name": "Python 3"
    },
    "language_info": {
      "name": "python"
    }
  },
  "cells": [
    {
      "cell_type": "code",
      "execution_count": null,
      "metadata": {
        "colab": {
          "base_uri": "https://localhost:8080/"
        },
        "id": "fEqDC_rWTiSZ",
        "outputId": "22e86355-8783-4d61-c865-12429696220a"
      },
      "outputs": [
        {
          "output_type": "stream",
          "name": "stdout",
          "text": [
            "월급을 입력해주세요 (단위: 만 원): 500\n",
            "세전 연봉 :  6000 만원\n",
            "세후 연봉 :  4560 만원\n"
          ]
        }
      ],
      "source": [
        "monthly_payment = int(input(\"월급을 입력해주세요 (단위: 만 원): \"))\n",
        "yearly_payment = monthly_payment * 12\n",
        "\n",
        "print(\"세전 연봉 : \", yearly_payment, \"만원\")\n",
        "\n",
        "if yearly_payment <= 1200:\n",
        "    tax = int(yearly_payment * 0.06)\n",
        "elif yearly_payment <= 4600:\n",
        "    tax = int(yearly_payment * 0.15)\n",
        "elif yearly_payment <= 8800:\n",
        "    tax = int(yearly_payment * 0.24)\n",
        "elif yearly_payment <= 15000:\n",
        "    tax = int(yearly_payment * 0.35)\n",
        "elif yearly_payment <= 30000:\n",
        "    tax = int(yearly_payment * 0.38)\n",
        "elif yearly_payment <= 50000:\n",
        "    tax = int(yearly_payment * 0.40)\n",
        "elif yearly_payment > 50000:\n",
        "    tax = int(yearly_payment * 0.42)\n",
        "\n",
        "print(\"세후 연봉 : \", yearly_payment - tax, \"만원\")"
      ]
    }
  ]
}