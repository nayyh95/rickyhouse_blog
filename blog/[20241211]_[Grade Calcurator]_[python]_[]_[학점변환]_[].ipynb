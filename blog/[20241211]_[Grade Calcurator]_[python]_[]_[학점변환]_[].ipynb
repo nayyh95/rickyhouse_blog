{
  "nbformat": 4,
  "nbformat_minor": 0,
  "metadata": {
    "colab": {
      "provenance": []
    },
    "kernelspec": {
      "name": "python3",
      "display_name": "Python 3"
    },
    "language_info": {
      "name": "python"
    }
  },
  "cells": [
    {
      "cell_type": "code",
      "execution_count": 1,
      "metadata": {
        "colab": {
          "base_uri": "https://localhost:8080/"
        },
        "id": "fER0yhn2VXPg",
        "outputId": "cbe8e117-351a-41c1-b0b6-047bf909cd56"
      },
      "outputs": [
        {
          "output_type": "stream",
          "name": "stdout",
          "text": [
            "이름을 입력해 주세요.: 홍길동\n",
            "점수를 입력해 주세요 (0~100) :90\n",
            "학생이름 : 홍길동\n",
            "점수 : 90\n",
            "학점 :  A\n"
          ]
        }
      ],
      "source": [
        "name = input(\"이름을 입력해 주세요.: \" )\n",
        "score = int(input(\"점수를 입력해 주세요 (0~100) :\"))\n",
        "if not(0 <= score <= 100):\n",
        "  print('입력값을 확인하시오. (점수: 0~100)')\n",
        "if(95 <= score) : grade = 'A+'\n",
        "elif(90 <= score) : grade = 'A'\n",
        "elif(85 <= score) : grade = 'B+'\n",
        "elif(80 <= score) : grade = 'B'\n",
        "elif(75 <= score) : grade = 'C+'\n",
        "elif(70 <= score) : grade = 'C'\n",
        "elif(65 <= score) : grade = 'D+'\n",
        "elif(60 <= score) : grade = 'D'\n",
        "else: grade = 'F'\n",
        "\n",
        "print(\"학생이름 :\",name)\n",
        "print(\"점수 :\",score)\n",
        "print(\"학점 : \", grade)"
      ]
    }
  ]
}